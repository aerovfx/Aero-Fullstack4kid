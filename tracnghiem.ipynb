{
 "cells": [
  {
   "cell_type": "code",
   "execution_count": 2,
   "id": "d30e66a8-a62d-4a2f-bb1b-79e6f6e25f75",
   "metadata": {},
   "outputs": [
    {
     "data": {
      "application/vnd.jupyter.widget-view+json": {
       "model_id": "2c5c4194e046429b9c7c799195264830",
       "version_major": 2,
       "version_minor": 0
      },
      "text/plain": [
       "Label(value='Câu hỏi 1: Điện trường là gì?')"
      ]
     },
     "metadata": {},
     "output_type": "display_data"
    },
    {
     "data": {
      "application/vnd.jupyter.widget-view+json": {
       "model_id": "afd1ab0ecdf4411a865f08da4ddc6f88",
       "version_major": 2,
       "version_minor": 0
      },
      "text/plain": [
       "RadioButtons(description='Lựa chọn:', options=('a) Một dạng vật chất tồn tại xung quanh các điện tích.', 'b) C…"
      ]
     },
     "metadata": {},
     "output_type": "display_data"
    },
    {
     "data": {
      "application/vnd.jupyter.widget-view+json": {
       "model_id": "31a238c31eed4873a94abfbba933066d",
       "version_major": 2,
       "version_minor": 0
      },
      "text/plain": [
       "Button(description='Kiểm tra đáp án', style=ButtonStyle())"
      ]
     },
     "metadata": {},
     "output_type": "display_data"
    }
   ],
   "source": [
    "import ipywidgets as widgets\n",
    "from IPython.display import display\n",
    "\n",
    "# Tạo câu hỏi trắc nghiệm\n",
    "question = widgets.Label(\"Câu hỏi 1: Điện trường là gì?\")\n",
    "choices = widgets.RadioButtons(\n",
    "    options=['a) Một dạng vật chất tồn tại xung quanh các điện tích.',\n",
    "             'b) Chỉ tác dụng lên các vật thể không mang điện tích.',\n",
    "             'c) Là một loại sóng điện từ.',\n",
    "             'd) Không liên quan đến lực điện.'],\n",
    "    description='Lựa chọn:',\n",
    "    disabled=False\n",
    ")\n",
    "\n",
    "# Tạo nút để kiểm tra câu trả lời\n",
    "check_button = widgets.Button(description=\"Kiểm tra đáp án\")\n",
    "\n",
    "# Hàm kiểm tra câu trả lời và chấm điểm\n",
    "def check_answer(b):\n",
    "    correct_answer = 'a) Một dạng vật chất tồn tại xung quanh các điện tích.'\n",
    "    if choices.value == correct_answer:\n",
    "        print(\"Đúng rồi! Bạn đã trả lời chính xác.\")\n",
    "    else:\n",
    "        print(\"Sai rồi! Hãy thử lại.\")\n",
    "\n",
    "# Liên kết hàm kiểm tra với nút\n",
    "check_button.on_click(check_answer)\n",
    "\n",
    "# Hiển thị câu hỏi và lựa chọn\n",
    "display(question, choices, check_button)"
   ]
  },
  {
   "cell_type": "code",
   "execution_count": 3,
   "id": "616b87f9-389d-44de-aef0-e1b08368a186",
   "metadata": {},
   "outputs": [
    {
     "data": {
      "application/vnd.jupyter.widget-view+json": {
       "model_id": "de6ff0520de54952b390aab074ab6b98",
       "version_major": 2,
       "version_minor": 0
      },
      "text/plain": [
       "Label(value='Câu hỏi 1: Điện trường là gì?')"
      ]
     },
     "metadata": {},
     "output_type": "display_data"
    },
    {
     "data": {
      "application/vnd.jupyter.widget-view+json": {
       "model_id": "f4f5cac9eca84788938c3efc0a26a8ff",
       "version_major": 2,
       "version_minor": 0
      },
      "text/plain": [
       "RadioButtons(description='Lựa chọn:', options=('a) Một dạng vật chất tồn tại xung quanh các điện tích.', 'b) C…"
      ]
     },
     "metadata": {},
     "output_type": "display_data"
    },
    {
     "data": {
      "application/vnd.jupyter.widget-view+json": {
       "model_id": "b91be76329ab4f37987f22f447137e71",
       "version_major": 2,
       "version_minor": 0
      },
      "text/plain": [
       "Button(description='Kiểm tra đáp án', style=ButtonStyle())"
      ]
     },
     "metadata": {},
     "output_type": "display_data"
    }
   ],
   "source": [
    "import ipywidgets as widgets\n",
    "from IPython.display import display\n",
    "\n",
    "# Tạo câu hỏi trắc nghiệm\n",
    "question = widgets.Label(\"Câu hỏi 1: Điện trường là gì?\")\n",
    "choices = widgets.RadioButtons(\n",
    "    options=['a) Một dạng vật chất tồn tại xung quanh các điện tích.',\n",
    "             'b) Chỉ tác dụng lên các vật thể không mang điện tích.',\n",
    "             'c) Là một loại sóng điện từ.',\n",
    "             'd) Không liên quan đến lực điện.'],\n",
    "    description='Lựa chọn:',\n",
    "    disabled=False\n",
    ")\n",
    "\n",
    "# Tạo nút để kiểm tra câu trả lời\n",
    "check_button = widgets.Button(description=\"Kiểm tra đáp án\")\n",
    "\n",
    "# Hàm kiểm tra câu trả lời và chấm điểm\n",
    "def check_answer(b):\n",
    "    correct_answer = 'a) Một dạng vật chất tồn tại xung quanh các điện tích.'\n",
    "    if choices.value == correct_answer:\n",
    "        print(\"Đúng rồi! Bạn đã trả lời chính xác.\")\n",
    "    else:\n",
    "        print(\"Sai rồi! Hãy thử lại.\")\n",
    "\n",
    "# Liên kết hàm kiểm tra với nút\n",
    "check_button.on_click(check_answer)\n",
    "\n",
    "# Hiển thị câu hỏi và lựa chọn\n",
    "display(question, choices, check_button)"
   ]
  },
  {
   "cell_type": "code",
   "execution_count": null,
   "id": "a76fde08-ada6-4c22-928d-8006760d5d7b",
   "metadata": {},
   "outputs": [],
   "source": []
  },
  {
   "cell_type": "code",
   "execution_count": null,
   "id": "0e574840-53f4-4f61-9c9c-f6ed2e80adb8",
   "metadata": {},
   "outputs": [],
   "source": []
  }
 ],
 "metadata": {
  "kernelspec": {
   "display_name": "Python 3 (ipykernel)",
   "language": "python",
   "name": "python3"
  },
  "language_info": {
   "codemirror_mode": {
    "name": "ipython",
    "version": 3
   },
   "file_extension": ".py",
   "mimetype": "text/x-python",
   "name": "python",
   "nbconvert_exporter": "python",
   "pygments_lexer": "ipython3",
   "version": "3.9.6"
  }
 },
 "nbformat": 4,
 "nbformat_minor": 5
}
