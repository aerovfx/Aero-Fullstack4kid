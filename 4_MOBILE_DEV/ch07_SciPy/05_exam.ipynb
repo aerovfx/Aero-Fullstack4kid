{
 "cells": [
  {
   "cell_type": "code",
   "execution_count": 4,
   "metadata": {},
   "outputs": [
    {
     "name": "stdout",
     "output_type": "stream",
     "text": [
      "Mean: -0.00553837397874423, Standard Deviation: 0.9696717678059357\n",
      "Kurtosis: -0.23857871325596713, Skewness: -0.09132297537018762\n",
      "Integral result: 1.7724538509055159, Error: 1.4202637059452923e-08\n",
      "Optimization result: [-1.30644012]\n",
      "P matrix:\n",
      " [[0. 1. 0.]\n",
      " [0. 0. 1.]\n",
      " [1. 0. 0.]]\n",
      "L matrix:\n",
      " [[1.         0.         0.        ]\n",
      " [0.14285714 1.         0.        ]\n",
      " [0.57142857 0.5        1.        ]]\n",
      "U matrix:\n",
      " [[ 7.00000000e+00  8.00000000e+00  9.00000000e+00]\n",
      " [ 0.00000000e+00  8.57142857e-01  1.71428571e+00]\n",
      " [ 0.00000000e+00  0.00000000e+00 -1.58603289e-16]]\n"
     ]
    }
   ],
   "source": [
    "import numpy as np\n",
    "from scipy import stats, integrate, optimize\n",
    "from scipy.linalg import lu\n",
    "\n",
    "# Ví dụ 1: Các hàm thống kê\n",
    "mean = np.mean(data)\n",
    "std_dev = np.std(data)\n",
    "kurtosis = stats.kurtosis(data)\n",
    "skewness = stats.skew(data)\n",
    "\n",
    "print(f\"Mean: {mean}, Standard Deviation: {std_dev}\")\n",
    "print(f\"Kurtosis: {kurtosis}, Skewness: {skewness}\")\n",
    "\n",
    "# Ví dụ 2: Tích phân\n",
    "result, error = integrate.quad(lambda x: np.exp(-x**2), -np.inf, np.inf)\n",
    "print(f\"Integral result: {result}, Error: {error}\")\n",
    "\n",
    "# Ví dụ 3: Tối ưu hóa\n",
    "def func(x):\n",
    "    return x**2 + 10*np.sin(x)\n",
    "\n",
    "result = optimize.minimize(func, x0=0)\n",
    "print(f\"Optimization result: {result.x}\")\n",
    "\n",
    "# Ví dụ 4: Đại số tuyến tính\n",
    "P, L, U = lu(A)\n",
    "print(\"P matrix:\\n\", P)\n",
    "print(\"L matrix:\\n\", L)\n",
    "print(\"U matrix:\\n\", U)\n"
   ]
  }
 ],
 "metadata": {
  "kernelspec": {
   "display_name": "Aero-Fullstack4kid",
   "language": "python",
   "name": "python3"
  },
  "language_info": {
   "codemirror_mode": {
    "name": "ipython",
    "version": 3
   },
   "file_extension": ".py",
   "mimetype": "text/x-python",
   "name": "python",
   "nbconvert_exporter": "python",
   "pygments_lexer": "ipython3",
   "version": "3.13.1"
  }
 },
 "nbformat": 4,
 "nbformat_minor": 2
}
