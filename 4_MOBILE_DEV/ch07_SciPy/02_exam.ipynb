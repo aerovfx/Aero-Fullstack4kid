{
 "cells": [
  {
   "cell_type": "markdown",
   "metadata": {},
   "source": [
    "**Tối ưu hóa**: SciPy có các hàm để giải quyết các bài toán tối ưu hóa, bao gồm tối ưu hóa không ràng buộc và có ràng buộc.\n"
   ]
  },
  {
   "cell_type": "code",
   "execution_count": 1,
   "metadata": {},
   "outputs": [
    {
     "name": "stdout",
     "output_type": "stream",
     "text": [
      "Giá trị tối ưu của x: [0.33333333 0.33333333 0.33333333]\n",
      "Giá trị hàm mục tiêu tại điểm tối ưu: 0.3333333333333333\n"
     ]
    }
   ],
   "source": [
    "import numpy as np\n",
    "from scipy.optimize import minimize\n",
    "\n",
    "# Hàm mục tiêu cần tối ưu hóa\n",
    "def objective_function(x):\n",
    "    return x[0]**2 + x[1]**2 + x[2]**2\n",
    "\n",
    "# Ràng buộc: x[0] + x[1] + x[2] = 1\n",
    "def constraint(x):\n",
    "    return x[0] + x[1] + x[2] - 1\n",
    "\n",
    "# Giá trị khởi tạo\n",
    "x0 = np.array([0.5, 0.5, 0.5])\n",
    "\n",
    "# Định nghĩa ràng buộc dưới dạng từ điển\n",
    "con = {'type': 'eq', 'fun': constraint}\n",
    "\n",
    "# Gọi hàm minimize để tối ưu hóa\n",
    "solution = minimize(objective_function, x0, constraints=con)\n",
    "\n",
    "# In kết quả\n",
    "print('Giá trị tối ưu của x:', solution.x)\n",
    "print('Giá trị hàm mục tiêu tại điểm tối ưu:', solution.fun)"
   ]
  }
 ],
 "metadata": {
  "kernelspec": {
   "display_name": "Aero-Fullstack4kid",
   "language": "python",
   "name": "python3"
  },
  "language_info": {
   "codemirror_mode": {
    "name": "ipython",
    "version": 3
   },
   "file_extension": ".py",
   "mimetype": "text/x-python",
   "name": "python",
   "nbconvert_exporter": "python",
   "pygments_lexer": "ipython3",
   "version": "3.13.1"
  }
 },
 "nbformat": 4,
 "nbformat_minor": 2
}
