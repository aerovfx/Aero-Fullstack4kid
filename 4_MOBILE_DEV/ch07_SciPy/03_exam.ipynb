{
 "cells": [
  {
   "cell_type": "markdown",
   "metadata": {},
   "source": [
    "**Tích phân và vi phân**: SciPy cung cấp các công cụ để tính tích phân và vi phân của các hàm số.\n"
   ]
  },
  {
   "cell_type": "code",
   "execution_count": 21,
   "metadata": {},
   "outputs": [
    {
     "name": "stdout",
     "output_type": "stream",
     "text": [
      "Tích phân của sin(x) từ 0 đến pi: 2.0\n",
      "Đạo hàm của sin(x) tại x = pi/4: 0.707106776535511\n"
     ]
    }
   ],
   "source": [
    "import numpy as np # Để thực hiện các phép toán số\n",
    "from scipy import integrate # Để thực hiện tích phân số\n",
    "from scipy.optimize import approx_fprime # Để xấp xỉ đạo hàm bằng sai phân hữu hạn\n",
    "\n",
    "# Định nghĩa hàm\n",
    "def f(x): # Hàm để tích phân và vi phân\n",
    "    return np.sin(x) # Hàm để tích phân và vi phân\n",
    "\n",
    "# Tính tích phân\n",
    "tich_phan, sai_so = integrate.quad(f, 0, np.pi) # Tích phân sin(x) từ 0 đến pi\n",
    "print(f\"Tích phân của sin(x) từ 0 đến pi: {tich_phan}\") # In kết quả tích phân\n",
    "\n",
    "# Tính đạo hàm bằng xấp xỉ sai phân hữu hạn\n",
    "eps = np.sqrt(np.finfo(float).eps)  # Kích thước bước cho sai phân hữu hạn\n",
    "gia_tri_dao_ham = approx_fprime([np.pi/4], f, [eps])[0] # Xấp xỉ đạo hàm của sin(x) tại x = pi/4\n",
    "print(f\"Đạo hàm của sin(x) tại x = pi/4: {gia_tri_dao_ham}\") # In kết quả đạo hàm"
   ]
  }
 ],
 "metadata": {
  "kernelspec": {
   "display_name": "Aero-Fullstack4kid",
   "language": "python",
   "name": "python3"
  },
  "language_info": {
   "codemirror_mode": {
    "name": "ipython",
    "version": 3
   },
   "file_extension": ".py",
   "mimetype": "text/x-python",
   "name": "python",
   "nbconvert_exporter": "python",
   "pygments_lexer": "ipython3",
   "version": "3.13.1"
  }
 },
 "nbformat": 4,
 "nbformat_minor": 2
}
