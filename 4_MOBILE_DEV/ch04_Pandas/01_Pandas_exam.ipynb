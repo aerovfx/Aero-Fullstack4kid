{
 "cells": [
  {
   "cell_type": "code",
   "execution_count": 4,
   "metadata": {},
   "outputs": [
    {
     "ename": "ModuleNotFoundError",
     "evalue": "No module named 'sqlalchemy'",
     "output_type": "error",
     "traceback": [
      "\u001b[0;31m---------------------------------------------------------------------------\u001b[0m",
      "\u001b[0;31mModuleNotFoundError\u001b[0m                       Traceback (most recent call last)",
      "Cell \u001b[0;32mIn[4], line 2\u001b[0m\n\u001b[1;32m      1\u001b[0m \u001b[38;5;28;01mimport\u001b[39;00m\u001b[38;5;250m \u001b[39m\u001b[38;5;21;01mpandas\u001b[39;00m\u001b[38;5;250m \u001b[39m\u001b[38;5;28;01mas\u001b[39;00m\u001b[38;5;250m \u001b[39m\u001b[38;5;21;01mpd\u001b[39;00m\n\u001b[0;32m----> 2\u001b[0m \u001b[38;5;28;01mfrom\u001b[39;00m\u001b[38;5;250m \u001b[39m\u001b[38;5;21;01msqlalchemy\u001b[39;00m\u001b[38;5;250m \u001b[39m\u001b[38;5;28;01mimport\u001b[39;00m create_engine\n\u001b[1;32m      4\u001b[0m \u001b[38;5;66;03m# Read data from a CSV file\u001b[39;00m\n\u001b[1;32m      5\u001b[0m csv_data \u001b[38;5;241m=\u001b[39m pd\u001b[38;5;241m.\u001b[39mread_csv(\u001b[38;5;124m'\u001b[39m\u001b[38;5;124mdata.csv\u001b[39m\u001b[38;5;124m'\u001b[39m)\n",
      "\u001b[0;31mModuleNotFoundError\u001b[0m: No module named 'sqlalchemy'"
     ]
    }
   ],
   "source": [
    "import pandas as pd\n",
    "from sqlalchemy import create_engine\n",
    "\n",
    "# Read data from a CSV file\n",
    "csv_data = pd.read_csv('data.csv')\n",
    "print(\"CSV Data:\")\n",
    "print(csv_data.head())\n",
    "\n",
    "# Write data to a CSV file\n",
    "csv_data.to_csv('output.csv', index=False)\n",
    "\n",
    "# Read data from an Excel file\n",
    "excel_data = pd.read_excel('data.xlsx')\n",
    "print(\"Excel Data:\")\n",
    "print(excel_data.head())\n",
    "\n",
    "# Write data to an Excel file\n",
    "excel_data.to_excel('output.xlsx', index=False)\n",
    "\n",
    "# Read data from a SQL database\n",
    "engine = create_engine('sqlite:///data.db')\n",
    "sql_data = pd.read_sql('SELECT * FROM table_name', engine)\n",
    "print(\"SQL Data:\")\n",
    "print(sql_data.head())\n",
    "\n",
    "# Write data to a SQL database\n",
    "sql_data.to_sql('output_table', engine, if_exists='replace', index=False)\n",
    "\n",
    "# Read data from a JSON file\n",
    "json_data = pd.read_json('data.json')\n",
    "print(\"JSON Data:\")\n",
    "print(json_data.head())\n",
    "\n",
    "# Write data to a JSON file\n",
    "json_data.to_json('output.json', orient='records')"
   ]
  }
 ],
 "metadata": {
  "kernelspec": {
   "display_name": "Aero-Fullstack4kid",
   "language": "python",
   "name": "python3"
  },
  "language_info": {
   "codemirror_mode": {
    "name": "ipython",
    "version": 3
   },
   "file_extension": ".py",
   "mimetype": "text/x-python",
   "name": "python",
   "nbconvert_exporter": "python",
   "pygments_lexer": "ipython3",
   "version": "3.13.1"
  }
 },
 "nbformat": 4,
 "nbformat_minor": 2
}
