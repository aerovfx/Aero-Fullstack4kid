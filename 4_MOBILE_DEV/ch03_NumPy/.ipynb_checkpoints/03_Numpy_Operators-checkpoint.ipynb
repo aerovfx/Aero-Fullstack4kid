{
 "cells": [
  {
   "cell_type": "markdown",
   "metadata": {},
   "source": [
    "# NumPy Operators\n",
    "\n",
    "NumPy offers a wide range of operators for performing operations on arrays. This notebook provides examples of basic arithmetic, comparison, and logical operations using NumPy."
   ]
  },
  {
   "cell_type": "markdown",
   "metadata": {},
   "source": [
    "## Importing NumPy\n",
    "\n",
    "First, we need to import NumPy. It is usually imported under the alias `np`."
   ]
  },
  {
   "cell_type": "code",
   "execution_count": 1,
   "metadata": {},
   "outputs": [],
   "source": [
    "import numpy as np"
   ]
  },
  {
   "cell_type": "markdown",
   "metadata": {},
   "source": [
    "## Basic Arithmetic Operations\n",
    "\n",
    "NumPy supports element-wise arithmetic operations such as addition, subtraction, multiplication, and division."
   ]
  },
  {
   "cell_type": "code",
   "execution_count": 2,
   "metadata": {},
   "outputs": [
    {
     "name": "stdout",
     "output_type": "stream",
     "text": [
      "[2 4 6 8 10]\n",
      "[0 0 0 0 0]\n",
      "[ 1  4  9 16 25]\n",
      "[1. 2. 3. 4. 5.]\n"
     ]
    }
   ],
   "source": [
    "# Creating a 1D array\n",
    "arr = np.array([1, 2, 3, 4, 5])\n",
    "\n",
    "# Element-wise addition\n",
    "print(arr + arr)\n",
    "\n",
    "# Element-wise subtraction\n",
    "print(arr - arr)\n",
    "\n",
    "# Element-wise multiplication\n",
    "print(arr * arr)\n",
    "\n",
    "# Element-wise division\n",
    "print(arr / arr)"
   ]
  },
  {
   "cell_type": "markdown",
   "metadata": {},
   "source": [
    "## Comparison Operations\n",
    "\n",
    "NumPy supports element-wise comparison operations such as greater than, less than, and equal to."
   ]
  },
  {
   "cell_type": "code",
   "execution_count": 3,
   "metadata": {},
   "outputs": [
    {
     "name": "stdout",
     "output_type": "stream",
     "text": [
      "[ True  True False False False]\n",
      "[False False False False  True]\n",
      "[ True  True  True  True  True]\n"
     ]
    }
   ],
   "source": [
    "# Element-wise comparison\n",
    "print(arr > 2)\n",
    "print(arr == 5)\n",
    "print(arr <= 5)"
   ]
  },
  {
   "cell_type": "markdown",
   "metadata": {},
   "source": [
    "## Logical Operations\n",
    "\n",
    "NumPy supports element-wise logical operations such as logical and, logical or, and logical not."
   ]
  },
  {
   "cell_type": "code",
   "execution_count": 4,
   "metadata": {},
   "outputs": [
    {
     "name": "stdout",
     "output_type": "stream",
     "text": [
      "[False  True False False False]\n",
      "[ True  True  True  True False]\n",
      "[False False  True  True  True]\n"
     ]
    }
   ],
   "source": [
    "# Element-wise logical operations\n",
    "print(np.logical_and(arr > 2, arr < 4))\n",
    "print(np.logical_or(arr < 3, arr > 4))\n",
    "print(np.logical_not(arr < 3))"
   ]
  }
 ],
 "metadata": {
  "kernelspec": {
   "display_name": "Python 3",
   "language": "python",
   "name": "python3"
  },
  "language_info": {
   "codemirror_mode": {
    "name": "ipython",
    "version": 3
   },
   "file_extension": ".py",
   "mimetype": "text/x-python",
   "name": "python",
   "nbconvert_exporter": "python",
   "pygments_lexer": "ipython3",
   "version": "3.8.5"
  }
 },
 "nbformat": 4,
 "nbformat_minor": 4
}
