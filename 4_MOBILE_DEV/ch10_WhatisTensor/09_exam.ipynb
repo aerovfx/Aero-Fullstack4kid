{
 "cells": [
  {
   "cell_type": "markdown",
   "metadata": {},
   "source": [
    "## Dự đoán giá đất theo dữ liệu csv"
   ]
  },
  {
   "cell_type": "code",
   "execution_count": 4,
   "metadata": {},
   "outputs": [
    {
     "name": "stdout",
     "output_type": "stream",
     "text": [
      "     Khu vực         Loại đất  Vị trí   Giá đất\n",
      "0   Vũng Tàu            Đất ở       1  27400000\n",
      "1     Bà Rịa  Đất nông nghiệp       2   9100000\n",
      "2     Phú Mỹ   Đất thương mại       3   5850000\n",
      "3  Long Điền            Đất ở       4   2500000\n",
      "4   Châu Đức         Đất rừng       5   1600000\n",
      "MSE: 312639988990600.00\n",
      "R²: -2.73\n",
      "Dự đoán giá đất: 3,183,480 VND/m²\n"
     ]
    },
    {
     "name": "stderr",
     "output_type": "stream",
     "text": [
      "/opt/homebrew/lib/python3.11/site-packages/sklearn/utils/validation.py:2739: UserWarning: X does not have valid feature names, but StandardScaler was fitted with feature names\n",
      "  warnings.warn(\n"
     ]
    }
   ],
   "source": [
    "import pandas as pd\n",
    "import numpy as np\n",
    "from sklearn.model_selection import train_test_split\n",
    "from sklearn.preprocessing import StandardScaler, LabelEncoder\n",
    "from sklearn.ensemble import RandomForestRegressor\n",
    "from sklearn.metrics import mean_squared_error, r2_score\n",
    "\n",
    "# Đọc dữ liệu từ file CSV\n",
    "df = pd.read_csv(\"giadat.csv\")\n",
    "\n",
    "# Kiểm tra dữ liệu\n",
    "print(df.head())\n",
    "\n",
    "# Xử lý dữ liệu: Chuyển đổi các cột dạng chuỗi thành số bằng Label Encoding\n",
    "label_encoders = {}\n",
    "for col in [\"Khu vực\", \"Loại đất\"]:\n",
    "    label_encoders[col] = LabelEncoder()\n",
    "    df[col] = label_encoders[col].fit_transform(df[col])\n",
    "\n",
    "# Chia dữ liệu thành đầu vào (X) và đầu ra (y)\n",
    "X = df[[\"Khu vực\", \"Loại đất\", \"Vị trí\"]]\n",
    "y = df[\"Giá đất\"]\n",
    "\n",
    "# Chia tập dữ liệu thành tập huấn luyện (80%) và tập kiểm tra (20%)\n",
    "X_train, X_test, y_train, y_test = train_test_split(X, y, test_size=0.2, random_state=42)\n",
    "\n",
    "# Chuẩn hóa dữ liệu\n",
    "scaler = StandardScaler()\n",
    "X_train = scaler.fit_transform(X_train)\n",
    "X_test = scaler.transform(X_test)\n",
    "\n",
    "# Huấn luyện mô hình Random Forest\n",
    "model = RandomForestRegressor(n_estimators=100, random_state=42)\n",
    "model.fit(X_train, y_train)\n",
    "\n",
    "# Dự đoán trên tập kiểm tra\n",
    "y_pred = model.predict(X_test)\n",
    "\n",
    "# Đánh giá mô hình\n",
    "mse = mean_squared_error(y_test, y_pred)\n",
    "r2 = r2_score(y_test, y_pred)\n",
    "print(f\"MSE: {mse:.2f}\")\n",
    "print(f\"R²: {r2:.2f}\")\n",
    "\n",
    "# Hàm dự đoán giá đất\n",
    "def predict_price(khu_vuc, loai_dat, vi_tri):\n",
    "    # Chuyển đổi dữ liệu đầu vào theo Label Encoding\n",
    "    if khu_vuc in label_encoders[\"Khu vực\"].classes_:\n",
    "        khu_vuc = label_encoders[\"Khu vực\"].transform([khu_vuc])[0]\n",
    "    else:\n",
    "        print(\"Lỗi: Khu vực không tồn tại trong dữ liệu!\")\n",
    "        return None\n",
    "\n",
    "    if loai_dat in label_encoders[\"Loại đất\"].classes_:\n",
    "        loai_dat = label_encoders[\"Loại đất\"].transform([loai_dat])[0]\n",
    "    else:\n",
    "        print(\"Lỗi: Loại đất không tồn tại trong dữ liệu!\")\n",
    "        return None\n",
    "\n",
    "    # Chuẩn hóa đầu vào\n",
    "    input_data = np.array([[khu_vuc, loai_dat, vi_tri]])\n",
    "    input_data = scaler.transform(input_data)\n",
    "\n",
    "    # Dự đoán giá\n",
    "    predicted_price = model.predict(input_data)[0]\n",
    "    return round(predicted_price, 0)  # Làm tròn giá trị dự đoán\n",
    "\n",
    "# Ví dụ sử dụng: Dự đoán giá đất tại \"Bà Rịa\", \"Đất ở\", vị trí 2\n",
    "predicted_price = predict_price(\"Bà Rịa\", \"Đất ở\", 2)\n",
    "if predicted_price:\n",
    "    print(f\"Dự đoán giá đất: {predicted_price:,.0f} VND/m²\")"
   ]
  }
 ],
 "metadata": {
  "kernelspec": {
   "display_name": "Python 3",
   "language": "python",
   "name": "python3"
  },
  "language_info": {
   "codemirror_mode": {
    "name": "ipython",
    "version": 3
   },
   "file_extension": ".py",
   "mimetype": "text/x-python",
   "name": "python",
   "nbconvert_exporter": "python",
   "pygments_lexer": "ipython3",
   "version": "3.11.undefined"
  }
 },
 "nbformat": 4,
 "nbformat_minor": 2
}
