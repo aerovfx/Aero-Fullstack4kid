{
 "cells": [
  {
   "cell_type": "code",
   "execution_count": 1,
   "metadata": {},
   "outputs": [
    {
     "name": "stdout",
     "output_type": "stream",
     "text": [
      "tensor([1, 2, 3, 4])\n",
      "tensor([[1, 2],\n",
      "        [3, 4]])\n",
      "tensor([3, 4, 5, 6])\n"
     ]
    }
   ],
   "source": [
    "import torch\n",
    "\n",
    "# Tạo một tensor 1D (vector)\n",
    "tensor_1d = torch.tensor([1, 2, 3, 4])\n",
    "\n",
    "# Tạo một tensor 2D (ma trận)\n",
    "tensor_2d = torch.tensor([[1, 2], [3, 4]])\n",
    "\n",
    "# Thực hiện phép toán giữa các tensor\n",
    "result = tensor_1d + 2  # Thêm 2 vào từng phần tử trong tensor_1d\n",
    "print(tensor_1d)\n",
    "print(tensor_2d)\n",
    "print(result)"
   ]
  }
 ],
 "metadata": {
  "kernelspec": {
   "display_name": "Python 3",
   "language": "python",
   "name": "python3"
  },
  "language_info": {
   "codemirror_mode": {
    "name": "ipython",
    "version": 3
   },
   "file_extension": ".py",
   "mimetype": "text/x-python",
   "name": "python",
   "nbconvert_exporter": "python",
   "pygments_lexer": "ipython3",
   "version": "3.11.11"
  }
 },
 "nbformat": 4,
 "nbformat_minor": 2
}
