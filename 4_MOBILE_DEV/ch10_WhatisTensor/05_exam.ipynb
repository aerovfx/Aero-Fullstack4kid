{
 "cells": [
  {
   "cell_type": "code",
   "execution_count": 24,
   "metadata": {},
   "outputs": [
    {
     "name": "stdout",
     "output_type": "stream",
     "text": [
      "Mô hình đã được huấn luyện!\n",
      "Độ chính xác: 13.0\n",
      "Thời gian huấn luyện: 0.0003037452697753906\n",
      "Thời gian đánh giá: 0.00016307830810546875\n",
      "Thời gian tổng: 0.00035381317138671875\n"
     ]
    }
   ],
   "source": [
    "import torch\n",
    "import torch.nn as nn\n",
    "import time\n",
    "\n",
    "# Tạo dữ liệu huấn luyện và phân loại\n",
    "inputs = torch.randn(100, 784) # tạo dữ liệu huấn luyện với kích thước 100x784\n",
    "labels = torch.randint(10, (100,)) # tạo dữ liệu phân loại với kích thước 100\n",
    "\n",
    "# Thiết kế mô hình\n",
    "class Model(nn.Module):\n",
    "    def __init__(self):\n",
    "        super(Model, self).__init__()\n",
    "        self.fc1 = nn.Linear(784, 128) # số lượng đầu vào 784, số lượng đơn vị trong lớp ẩn 128\n",
    "        self.fc2 = nn.Linear(128, 10) # số lượng đơn vị trong lớp ẩn 128, số lượng đầu ra 10\n",
    "\n",
    "    def forward(self, x):\n",
    "        x = torch.relu(self.fc1(x)) # áp dụng hàm kích hoạt ReLU cho lớp ẩn\n",
    "        x = self.fc2(x)\n",
    "        return x\n",
    "\n",
    "# Tạo instance của mô hình\n",
    "model = Model()\n",
    "\n",
    "# Huấn luyện mô hình\n",
    "criterion = nn.CrossEntropyLoss()\n",
    "optimizer = torch.optim.SGD(model.parameters(), lr=0.01)\n",
    "\n",
    "for epoch in range(10):\n",
    "    optimizer.zero_grad()\n",
    "    outputs = model(inputs)\n",
    "    loss = criterion(outputs, labels)\n",
    "    loss.backward()\n",
    "    optimizer.step()\n",
    "\n",
    "print(\"Mô hình đã được huấn luyện!\")\n",
    "\n",
    "# Tạo dữ liệu thử nghiệm\n",
    "test_inputs = torch.randn(100, 784)\n",
    "test_labels = torch.randint(10, (100,))\n",
    "\n",
    "# Lập trình đánh giá\n",
    "model.eval()\n",
    "with torch.no_grad():\n",
    "    test_outputs = model(test_inputs)\n",
    "\n",
    "criterion = nn.CrossEntropyLoss()\n",
    "test_loss = criterion(test_outputs, test_labels).item()\n",
    "\n",
    "start_time = time.time()\n",
    "# Huấn luyện mô hình...\n",
    "test_outputs = model(test_inputs)\n",
    "end_time = time.time()\n",
    "\n",
    "# Đo lường hiệu suất\n",
    "accuracy = torch.sum(torch.argmax(test_outputs, dim=1) == test_labels).item() / len(test_labels)\n",
    "print(\"Độ chính xác:\", accuracy * 100)\n",
    "print(\"Thời gian huấn luyện:\", time.time() - start_time)\n",
    "print(\"Thời gian đánh giá:\", time.time() - end_time)\n",
    "print(\"Thời gian tổng:\", time.time() - start_time)"
   ]
  }
 ],
 "metadata": {
  "kernelspec": {
   "display_name": "Python 3",
   "language": "python",
   "name": "python3"
  },
  "language_info": {
   "codemirror_mode": {
    "name": "ipython",
    "version": 3
   },
   "file_extension": ".py",
   "mimetype": "text/x-python",
   "name": "python",
   "nbconvert_exporter": "python",
   "pygments_lexer": "ipython3",
   "version": "3.11.11"
  }
 },
 "nbformat": 4,
 "nbformat_minor": 2
}
