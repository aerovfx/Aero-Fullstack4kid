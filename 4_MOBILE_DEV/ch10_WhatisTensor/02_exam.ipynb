{
 "cells": [
  {
   "cell_type": "markdown",
   "metadata": {},
   "source": [
    "### Trọng số ngẫu nhiên\n"
   ]
  },
  {
   "cell_type": "code",
   "execution_count": 2,
   "metadata": {},
   "outputs": [
    {
     "name": "stdout",
     "output_type": "stream",
     "text": [
      "tensor(0.9000, grad_fn=<DotBackward0>)\n"
     ]
    }
   ],
   "source": [
    "import torch\n",
    "\n",
    "# Tạo một tensor trọng số với các giá trị ngẫu nhiên\n",
    "weights = torch.tensor([0.2, 0.5, -0.1], requires_grad=True)\n",
    "\n",
    "# Đầu vào\n",
    "X = torch.tensor([1.0, 2.0, 3.0])\n",
    "\n",
    "# Tính đầu ra dự đoán\n",
    "y_pred = torch.dot(weights, X)  # Tính tích vô hướng giữa weights và X\n",
    "print(y_pred)\n"
   ]
  },
  {
   "cell_type": "markdown",
   "metadata": {},
   "source": [
    "### Để chuyển đổi từ độ C (Celsius) sang độ F (Fahrenheit), bạn có thể sử dụng công thức sau:\n",
    "$$\n",
    "\n",
    "F = \\frac{9}{5} \\times C + 32\n",
    "\n",
    "$$"
   ]
  },
  {
   "cell_type": "code",
   "execution_count": 9,
   "metadata": {},
   "outputs": [
    {
     "name": "stdout",
     "output_type": "stream",
     "text": [
      "10 oC =  50.0 oF\n"
     ]
    }
   ],
   "source": [
    "import torch\n",
    "\n",
    "# Đổi độ C(Celsius) sang độ F (Fahrenheit)\n",
    "# trọng số (weight) là 9/5 và độ lệch (bias) là 32\n",
    "\n",
    "b = 32\n",
    "w1 = 9/5\n",
    "\n",
    "X1 = 10\n",
    "\n",
    "# Tính đầu ra dự đoán\n",
    "y_pred = 1 * b + X1 * w1  # Tính tích vô hướng giữa weights và X\n",
    "print(X1, \"oC = \",y_pred, \"oF\")\n"
   ]
  }
 ],
 "metadata": {
  "kernelspec": {
   "display_name": "Python 3",
   "language": "python",
   "name": "python3"
  },
  "language_info": {
   "codemirror_mode": {
    "name": "ipython",
    "version": 3
   },
   "file_extension": ".py",
   "mimetype": "text/x-python",
   "name": "python",
   "nbconvert_exporter": "python",
   "pygments_lexer": "ipython3",
   "version": "3.11.11"
  }
 },
 "nbformat": 4,
 "nbformat_minor": 2
}
