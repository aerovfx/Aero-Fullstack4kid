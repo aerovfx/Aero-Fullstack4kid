{
 "cells": [
  {
   "cell_type": "markdown",
   "metadata": {},
   "source": [
    "### Ví dụ trong mạng nơ-ron (Neural Network):\n",
    "\n",
    "Giả sử bạn có một mạng nơ-ron đơn giản với một lớp đầu vào và một lớp đầu ra. Mỗi kết nối giữa các nơ-ron sẽ có một trọng số (weight).\n",
    "1. **Mô hình đơn giản:**\n",
    "   - Đầu vào: `X = [x1, x2, x3]`\n",
    "   - Trọng số: `w = [w1, w2, w3]`\n",
    "   - Đầu ra: `y_pred = w1 * x1 + w2 * x2 + w3 * x3 + b` (với `b` là độ lệch, bias)\n",
    "\n",
    "2. **Tensor trong trọng số:**\n",
    "   - Trọng số trong mô hình học sâu thường được lưu trữ dưới dạng tensor. Ví dụ, trong PyTorch, bạn có thể tạo một tensor trọng số như sau:\n",
    "   ```python\n",
    "   import torch\n",
    "\n",
    "   # Tạo một tensor trọng số với các giá trị ngẫu nhiên\n",
    "   weights = torch.tensor([0.2, 0.5, -0.1], requires_grad=True)\n",
    "\n",
    "   # Đầu vào\n",
    "   X = torch.tensor([1.0, 2.0, 3.0])\n",
    "\n",
    "   # Tính đầu ra dự đoán\n",
    "   y_pred = torch.dot(weights, X)  # Tính tích vô hướng giữa weights và X\n",
    "   print(y_pred)"
   ]
  },
  {
   "cell_type": "code",
   "execution_count": 1,
   "metadata": {},
   "outputs": [
    {
     "name": "stdout",
     "output_type": "stream",
     "text": [
      "tensor(0.9000, grad_fn=<DotBackward0>)\n"
     ]
    }
   ],
   "source": [
    "import torch\n",
    "\n",
    "# Tạo một tensor trọng số với các giá trị ngẫu nhiên\n",
    "weights = torch.tensor([0.2, 0.5, -0.1], requires_grad=True)\n",
    "\n",
    "# Đầu vào\n",
    "X = torch.tensor([1.0, 2.0, 3.0])\n",
    "\n",
    "# Tính đầu ra dự đoán\n",
    "y_pred = torch.dot(weights, X)  # Tính tích vô hướng giữa weights và X\n",
    "print(y_pred)\n"
   ]
  },
  {
   "cell_type": "markdown",
   "metadata": {},
   "source": []
  }
 ],
 "metadata": {
  "kernelspec": {
   "display_name": "Python 3",
   "language": "python",
   "name": "python3"
  },
  "language_info": {
   "codemirror_mode": {
    "name": "ipython",
    "version": 3
   },
   "file_extension": ".py",
   "mimetype": "text/x-python",
   "name": "python",
   "nbconvert_exporter": "python",
   "pygments_lexer": "ipython3",
   "version": "3.11.11"
  }
 },
 "nbformat": 4,
 "nbformat_minor": 2
}
