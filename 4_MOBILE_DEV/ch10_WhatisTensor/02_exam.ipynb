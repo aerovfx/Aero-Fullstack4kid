{
 "cells": [
  {
   "cell_type": "markdown",
   "metadata": {},
   "source": [
    "## Kiểu dữ liệu của tensor"
   ]
  },
  {
   "cell_type": "code",
   "execution_count": 3,
   "metadata": {},
   "outputs": [
    {
     "name": "stdout",
     "output_type": "stream",
     "text": [
      "Tensor int:\n",
      "tensor([1, 2, 3, 4, 5])\n",
      "Type: <class 'torch.Tensor'>\n",
      "dtype: torch.int64\n",
      "\n",
      "Tensor float:\n",
      "tensor([1., 2., 3., 4., 5.])\n",
      "Type: <class 'torch.Tensor'>\n",
      "dtype: torch.float32\n",
      "\n",
      "Tensor complex:\n",
      "tensor([1.+0.j, 2.+0.j, 3.+0.j])\n",
      "Type: <class 'torch.Tensor'>\n",
      "dtype: torch.complex64\n"
     ]
    }
   ],
   "source": [
    "import torch\n",
    "\n",
    "# Tạo một tensor có kiểu dữ liệu số nguyên\n",
    "tensor_int = torch.tensor([1, 2, 3, 4, 5])\n",
    "print(\"Tensor int:\")\n",
    "print(tensor_int)\n",
    "print(\"Type:\", type(tensor_int))\n",
    "print(\"dtype:\", tensor_int.dtype)\n",
    "\n",
    "# Thay đổi loại dữ liệu của tensor thành số thực\n",
    "tensor_float = tensor_int.float()\n",
    "print(\"\\nTensor float:\")\n",
    "print(tensor_float)\n",
    "print(\"Type:\", type(tensor_float))\n",
    "print(\"dtype:\", tensor_float.dtype)\n",
    "\n",
    "# Tạo một tensor có kiểu dữ liệu phức\n",
    "tensor_complex = torch.tensor([1, 2, 3], dtype=torch.complex64)\n",
    "print(\"\\nTensor complex:\")\n",
    "print(tensor_complex)\n",
    "print(\"Type:\", type(tensor_complex))\n",
    "print(\"dtype:\", tensor_complex.dtype)"
   ]
  }
 ],
 "metadata": {
  "kernelspec": {
   "display_name": "Python 3",
   "language": "python",
   "name": "python3"
  },
  "language_info": {
   "codemirror_mode": {
    "name": "ipython",
    "version": 3
   },
   "file_extension": ".py",
   "mimetype": "text/x-python",
   "name": "python",
   "nbconvert_exporter": "python",
   "pygments_lexer": "ipython3",
   "version": "3.11.11"
  }
 },
 "nbformat": 4,
 "nbformat_minor": 2
}
