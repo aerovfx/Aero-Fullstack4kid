{
 "cells": [
  {
   "cell_type": "markdown",
   "metadata": {},
   "source": [
    "### Trọng số ngẫu nhiên\n"
   ]
  },
  {
   "cell_type": "code",
   "execution_count": 13,
   "metadata": {},
   "outputs": [
    {
     "name": "stdout",
     "output_type": "stream",
     "text": [
      "tensor(0.9000, grad_fn=<DotBackward0>)\n"
     ]
    }
   ],
   "source": [
    "import torch\n",
    "\n",
    "# Tạo một tensor trọng số với các giá trị ngẫu nhiên\n",
    "weights = torch.tensor([0.2, 0.5, -0.1], requires_grad=True)\n",
    "\n",
    "# Đầu vào\n",
    "X = torch.tensor([1.0, 2.0, 3.0])\n",
    "\n",
    "# Tính đầu ra dự đoán\n",
    "y_pred = torch.dot(weights, X)  # Tính tích vô hướng giữa weights và X\n",
    "print(y_pred)\n"
   ]
  },
  {
   "cell_type": "markdown",
   "metadata": {},
   "source": [
    "### Để chuyển đổi từ độ C (Celsius) sang độ F (Fahrenheit), bạn có thể sử dụng công thức sau:\n",
    "$$\n",
    "\n",
    "F = \\frac{9}{5} \\times C + 32\n",
    "\n",
    "$$"
   ]
  },
  {
   "cell_type": "code",
   "execution_count": 11,
   "metadata": {},
   "outputs": [
    {
     "name": "stdout",
     "output_type": "stream",
     "text": [
      "10°C = 50.0°F\n",
      "10°C = 283.15K\n"
     ]
    }
   ],
   "source": [
    "import torch\n",
    "\n",
    "# Đổi độ C(Celsius) sang độ F (Fahrenheit)\n",
    "# Trọng số (weight) là 9/5 và độ lệch (bias) là 32\n",
    "b = 32\n",
    "w1 = 9/5\n",
    "\n",
    "X1 = 10  # Nhiệt độ ở độ C\n",
    "\n",
    "# Tính đầu ra dự đoán cho độ F (Fahrenheit)\n",
    "y_pred_F = 1 * b + X1 * w1  # Tính tích vô hướng giữa weights và X\n",
    "\n",
    "# Đổi độ C sang Kelvin\n",
    "y_pred_K = X1 + 273.15  # Công thức chuyển từ C sang K\n",
    "\n",
    "print(f\"{X1}°C = {y_pred_F}°F\")\n",
    "print(f\"{X1}°C = {y_pred_K}K\")"
   ]
  },
  {
   "cell_type": "code",
   "execution_count": 8,
   "metadata": {},
   "outputs": [
    {
     "name": "stdout",
     "output_type": "stream",
     "text": [
      "torch.Size([])\n",
      "torch.Size([4])\n",
      "Nhiệt độ (Celsius): tensor([ 10.,  30.,  80., 100.])\n",
      "Độ F (Fahrenheit): tensor([ 50.,  86., 176., 212.])\n",
      "Độ K (Kelvin): tensor([283.1500, 303.1500, 353.1500, 373.1500])\n",
      "Ket qua dau tien cua Độ F (Fahrenheit): 50.0\n"
     ]
    }
   ],
   "source": [
    "import torch\n",
    "\n",
    "# Khởi tạo trọng số và độ lệch cho phép chuyển đổi từ độ C sang độ F\n",
    "b = torch.tensor(32.0)  # Độ lệch (bias) cho phép chuyển đổi sang độ F\n",
    "w1 = torch.tensor(9.0 / 5.0)  # Trọng số (weight) cho phép chuyển đổi từ độ C sang độ F\n",
    "\n",
    "# Nhiệt độ đầu vào dưới dạng tensor\n",
    "X1 = torch.tensor([10.0, 30.0, 80.0, 100.0])  # Các giá trị nhiệt độ ở độ C\n",
    "\n",
    "# Tính toán độ F (Fahrenheit) từ độ C bằng công thức F = (9/5) * C + 32\n",
    "y_pred_F = X1 * w1 + b  # Trọng số (weight) và độ lệch (bias) được nhân và cộng với nhiệt độ đầu vào\n",
    "\n",
    "# Tính toán độ K (Kelvin) từ độ C bằng công thức K = C + 273.15\n",
    "y_pred_K = X1 + 273.15  # Công thức chuyển đổi trực tiếp từ C sang K\n",
    "\n",
    "# In kích thước của các tensor\n",
    "print(b.shape)\n",
    "print(X1.shape)\n",
    "\n",
    "# In kết quả với định dạng đẹp hơn\n",
    "print(\"Nhiệt độ (Celsius):\", X1)\n",
    "print(\"Độ F (Fahrenheit):\", y_pred_F)\n",
    "print(\"Độ K (Kelvin):\", y_pred_K)\n",
    "\n",
    "# In kết quả với định dạng đẹp hơn\n",
    "print(\"Ket qua dau tien cua Độ F (Fahrenheit):\", y_pred_F[0].item())\n"
   ]
  }
 ],
 "metadata": {
  "kernelspec": {
   "display_name": "Python 3",
   "language": "python",
   "name": "python3"
  },
  "language_info": {
   "codemirror_mode": {
    "name": "ipython",
    "version": 3
   },
   "file_extension": ".py",
   "mimetype": "text/x-python",
   "name": "python",
   "nbconvert_exporter": "python",
   "pygments_lexer": "ipython3",
   "version": "3.11.11"
  }
 },
 "nbformat": 4,
 "nbformat_minor": 2
}
