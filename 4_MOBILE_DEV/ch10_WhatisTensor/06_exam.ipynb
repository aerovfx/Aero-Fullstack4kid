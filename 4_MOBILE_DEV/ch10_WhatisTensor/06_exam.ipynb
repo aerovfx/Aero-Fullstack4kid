{
 "cells": [
  {
   "cell_type": "markdown",
   "metadata": {},
   "source": [
    "## Huấn luyện mô hình định giá xe dựa trên thời gian chạy và số nghìn km "
   ]
  },
  {
   "cell_type": "code",
   "execution_count": 8,
   "metadata": {},
   "outputs": [
    {
     "name": "stdout",
     "output_type": "stream",
     "text": [
      "Epoch 0, Loss: 1.0289\n",
      "Epoch 50, Loss: 0.0079\n",
      "Epoch 100, Loss: 0.0084\n",
      "Epoch 150, Loss: 0.0075\n",
      "Epoch 200, Loss: 0.0071\n",
      "Epoch 250, Loss: 0.0062\n",
      "Epoch 300, Loss: 0.0077\n",
      "Epoch 350, Loss: 0.0077\n",
      "Epoch 400, Loss: 0.0080\n",
      "Epoch 450, Loss: 0.0075\n",
      "Dự đoán giá xe (VND): [4.8260045e+08 3.9126173e+08]\n"
     ]
    },
    {
     "data": {
      "image/png": "[encoded data removed]",
      "text/plain": [
       "<Figure size 640x480 with 1 Axes>"
      ]
     },
     "metadata": {},
     "output_type": "display_data"
    }
   ],
   "source": [
    "import torch\n",
    "import torch.nn as nn\n",
    "import torch.optim as optim\n",
    "import numpy as np\n",
    "import matplotlib.pyplot as plt\n",
    "from sklearn.preprocessing import StandardScaler\n",
    "from torch.utils.data import DataLoader, TensorDataset\n",
    "\n",
    "# Dữ liệu đầu vào (tuổi xe, số nghìn km) và giá xe (VND)\n",
    "X = np.array([[1, 16.09], [3, 80.47], [5, 128.75], [7, 177.03], [10, 241.40]], dtype=np.float32)  # Đã chuyển sang nghìn km\n",
    "y = np.array([[20000], [15000], [12000], [9000], [5000]], dtype=np.float32) * 25000  # Chuyển từ USD sang VND\n",
    "\n",
    "# Chuẩn hóa dữ liệu\n",
    "scaler_X = StandardScaler()\n",
    "scaler_y = StandardScaler()\n",
    "X = scaler_X.fit_transform(X)\n",
    "y = scaler_y.fit_transform(y)\n",
    "\n",
    "X_tensor = torch.tensor(X, dtype=torch.float32)\n",
    "y_tensor = torch.tensor(y, dtype=torch.float32)\n",
    "\n",
    "# Dùng DataLoader cho mini-batch training\n",
    "dataset = TensorDataset(X_tensor, y_tensor)\n",
    "dataloader = DataLoader(dataset, batch_size=2, shuffle=True)\n",
    "\n",
    "# Xây dựng mô hình mạng nơ-ron\n",
    "class CarPriceModel(nn.Module):\n",
    "    def __init__(self):\n",
    "        super(CarPriceModel, self).__init__()\n",
    "        self.linear = nn.Linear(2, 1)\n",
    "\n",
    "    def forward(self, x):\n",
    "        return self.linear(x)\n",
    "\n",
    "# Khởi tạo mô hình\n",
    "model = CarPriceModel()\n",
    "criterion = nn.MSELoss()\n",
    "optimizer = optim.Adam(model.parameters(), lr=0.01)  # Adam optimizer\n",
    "\n",
    "# Huấn luyện mô hình\n",
    "losses = []\n",
    "for epoch in range(500):\n",
    "    epoch_loss = 0\n",
    "    for batch_X, batch_y in dataloader:\n",
    "        optimizer.zero_grad()\n",
    "        y_pred = model(batch_X)\n",
    "        loss = criterion(y_pred, batch_y)\n",
    "        loss.backward()\n",
    "        optimizer.step()\n",
    "        epoch_loss += loss.item()\n",
    "    \n",
    "    losses.append(epoch_loss / len(dataloader))\n",
    "\n",
    "    if epoch % 50 == 0:\n",
    "        print(f'Epoch {epoch}, Loss: {epoch_loss / len(dataloader):.4f}')\n",
    "\n",
    "# Dự đoán thử nghiệm (tuổi xe, số nghìn km)\n",
    "test_data = np.array([[3, 2.05], [10, 16.09]], dtype=np.float32)  # Dữ liệu theo nghìn km\n",
    "test_data = scaler_X.transform(test_data)  # Chuẩn hóa dữ liệu đầu vào\n",
    "test_tensor = torch.tensor(test_data, dtype=torch.float32)\n",
    "predicted_prices = model(test_tensor).detach().numpy()\n",
    "predicted_prices = scaler_y.inverse_transform(predicted_prices)  # Chuyển về đơn vị gốc (VND)\n",
    "print(f\"Dự đoán giá xe (VND): {predicted_prices.flatten()}\")\n",
    "\n",
    "# Vẽ đồ thị loss\n",
    "plt.plot(losses)\n",
    "plt.xlabel('Epoch')\n",
    "plt.ylabel('Loss')\n",
    "plt.title('Training Loss')\n",
    "plt.show()"
   ]
  }
 ],
 "metadata": {
  "kernelspec": {
   "display_name": "Python 3",
   "language": "python",
   "name": "python3"
  },
  "language_info": {
   "codemirror_mode": {
    "name": "ipython",
    "version": 3
   },
   "file_extension": ".py",
   "mimetype": "text/x-python",
   "name": "python",
   "nbconvert_exporter": "python",
   "pygments_lexer": "ipython3",
   "version": "3.11.11"
  }
 },
 "nbformat": 4,
 "nbformat_minor": 2
}
