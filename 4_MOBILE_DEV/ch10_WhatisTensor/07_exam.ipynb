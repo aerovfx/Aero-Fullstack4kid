{
 "cells": [
  {
   "cell_type": "markdown",
   "metadata": {},
   "source": [
    "### chương trình Python sử dụng PyTorch trong Jupyter Notebook để huấn luyện mô hình dự đoán giá nhà dựa trên các tiêu chí như:\n",
    "\n",
    "Diện tích (sqft)\n",
    "Số phòng ngủ\n",
    "Số phòng tắm\n",
    "Vị trí (điểm số khu vực: 1-10)\n"
   ]
  },
  {
   "cell_type": "code",
   "execution_count": 3,
   "metadata": {},
   "outputs": [
    {
     "name": "stdout",
     "output_type": "stream",
     "text": [
      "File giadat.csv đã được tạo thành công!\n",
      "Epoch 0, Loss: 110833205248.0\n",
      "Epoch 50, Loss: 2173930496.0\n",
      "Epoch 100, Loss: 2173900288.0\n",
      "Epoch 150, Loss: 2173871616.0\n",
      "Epoch 200, Loss: 2173841152.0\n",
      "Epoch 250, Loss: 2173812736.0\n",
      "Epoch 300, Loss: 2173781760.0\n",
      "Epoch 350, Loss: 2173751808.0\n",
      "Epoch 400, Loss: 2173722112.0\n",
      "Epoch 450, Loss: 2173691648.0\n",
      "Dự đoán giá nhà: [[367079.03]\n",
      " [275308.44]]\n"
     ]
    },
    {
     "data": {
      "image/png": "[encoded data removed]",
      "text/plain": [
       "<Figure size 640x480 with 1 Axes>"
      ]
     },
     "metadata": {},
     "output_type": "display_data"
    }
   ],
   "source": [
    "import torch\n",
    "import torch.nn as nn\n",
    "import torch.optim as optim\n",
    "import numpy as np\n",
    "import matplotlib.pyplot as plt\n",
    "import pandas as pd\n",
    "\n",
    "# Dữ liệu mẫu: [Diện tích (sqft), Số phòng ngủ, Số phòng tắm, Điểm số khu vực], Giá nhà ($)\n",
    "data = np.array([\n",
    "    [1400, 3, 2, 7, 300000],\n",
    "    [1600, 4, 3, 8, 350000],\n",
    "    [1700, 3, 2, 9, 400000],\n",
    "    [1875, 3, 2, 6, 280000],\n",
    "    [1100, 2, 1, 5, 200000],\n",
    "    [1550, 3, 2, 7, 310000],\n",
    "    [1230, 2, 2, 6, 230000],\n",
    "    [2220, 4, 3, 9, 500000]\n",
    "], dtype=np.float32)\n",
    "# Chuyển đổi thành DataFrame\n",
    "df = pd.DataFrame(data)\n",
    "\n",
    "# Lưu vào file CSV\n",
    "df.to_csv(\"giadat.csv\", index=False, encoding=\"utf-8\")\n",
    "\n",
    "print(\"File giadat.csv đã được tạo thành công!\")\n",
    "# Chia dữ liệu đầu vào (X) và nhãn (y)\n",
    "X = torch.tensor(data[:, :-1], dtype=torch.float32)  # 4 đầu vào\n",
    "y = torch.tensor(data[:, -1:], dtype=torch.float32)  # Giá nhà (1 đầu ra)\n",
    "\n",
    "# Định nghĩa mô hình mạng nơ-ron\n",
    "class HousePriceModel(nn.Module):\n",
    "    def __init__(self):\n",
    "        super(HousePriceModel, self).__init__()\n",
    "        self.linear = nn.Linear(4, 1)  # 4 đầu vào (sqft, bedrooms, bathrooms, location), 1 đầu ra (giá nhà)\n",
    "\n",
    "    def forward(self, x):\n",
    "        return self.linear(x)\n",
    "\n",
    "# Khởi tạo mô hình\n",
    "model = HousePriceModel()\n",
    "criterion = nn.MSELoss()  # Hàm mất mát Mean Squared Error\n",
    "optimizer = optim.SGD(model.parameters(), lr=0.0000001)  # Hệ số học nhỏ để tránh vượt quá giá trị thực tế\n",
    "\n",
    "# Huấn luyện mô hình\n",
    "losses = []\n",
    "for epoch in range(500):\n",
    "    y_pred = model(X)\n",
    "    loss = criterion(y_pred, y)\n",
    "    losses.append(loss.item())\n",
    "\n",
    "    optimizer.zero_grad()\n",
    "    loss.backward()\n",
    "    optimizer.step()\n",
    "\n",
    "    if epoch % 50 == 0:\n",
    "        print(f'Epoch {epoch}, Loss: {loss.item()}')\n",
    "\n",
    "# Dự đoán giá nhà thử nghiệm\n",
    "test_data = torch.tensor([[1800, 3, 2, 8], [1350, 2, 1, 6]], dtype=torch.float32)\n",
    "predicted_prices = model(test_data).detach().numpy()\n",
    "print(f\"Dự đoán giá nhà: {predicted_prices}\")\n",
    "\n",
    "# Vẽ đồ thị loss\n",
    "plt.plot(losses)\n",
    "plt.xlabel('Epoch')\n",
    "plt.ylabel('Loss')\n",
    "plt.title('Training Loss')\n",
    "plt.show()\n"
   ]
  }
 ],
 "metadata": {
  "kernelspec": {
   "display_name": "Python 3",
   "language": "python",
   "name": "python3"
  },
  "language_info": {
   "codemirror_mode": {
    "name": "ipython",
    "version": 3
   },
   "file_extension": ".py",
   "mimetype": "text/x-python",
   "name": "python",
   "nbconvert_exporter": "python",
   "pygments_lexer": "ipython3",
   "version": "3.11.11"
  }
 },
 "nbformat": 4,
 "nbformat_minor": 2
}
