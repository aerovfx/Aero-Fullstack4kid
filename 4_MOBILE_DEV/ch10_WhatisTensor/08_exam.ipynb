{
 "cells": [
  {
   "cell_type": "markdown",
   "metadata": {},
   "source": [
    "## Dự đoán giá đất"
   ]
  },
  {
   "cell_type": "code",
   "execution_count": 18,
   "metadata": {},
   "outputs": [
    {
     "name": "stdout",
     "output_type": "stream",
     "text": [
      "File giadat.csv đã được tạo thành công!\n",
      "MSE: 312639988990600.0\n",
      "R²: -2.7342409625918958\n",
      "2149660.0 m^2\n"
     ]
    }
   ],
   "source": [
    "import pandas as pd\n",
    "import numpy as np\n",
    "from sklearn.model_selection import train_test_split\n",
    "from sklearn.preprocessing import StandardScaler\n",
    "from sklearn.ensemble import RandomForestRegressor\n",
    "from sklearn.metrics import mean_squared_error, r2_score\n",
    "\n",
    "# Tạo dữ liệu mẫu từ bảng giá đất\n",
    "# Giả sử dữ liệu có các cột: \"Khu vực\", \"Loại đất\", \"Vị trí\", \"Giá đất\"\n",
    "import pandas as pd\n",
    "\n",
    "# Dữ liệu mẫu\n",
    "data = {\n",
    "    \"Khu vực\": [\"Vũng Tàu\", \"Bà Rịa\", \"Phú Mỹ\", \"Long Điền\", \"Châu Đức\", \"Xuyên Mộc\"],\n",
    "    \"Loại đất\": [\"Đất ở\", \"Đất nông nghiệp\", \"Đất thương mại\", \"Đất ở\", \"Đất rừng\", \"Đất nuôi trồng\"],\n",
    "    \"Vị trí\": [1, 2, 3, 4, 5, 1],\n",
    "    \"Giá đất\": [27400000, 9100000, 5850000, 2500000, 1600000, 218000]\n",
    "}\n",
    "\n",
    "# Chuyển thành DataFrame\n",
    "df = pd.DataFrame(data)\n",
    "\n",
    "# Xuất ra file CSV (giữ tiêu đề)\n",
    "df.to_csv(\"giadat.csv\", index=False, encoding=\"utf-8\")\n",
    "\n",
    "print(\"File giadat.csv đã được tạo thành công!\")\n",
    "\n",
    "# Chuyển đổi dữ liệu dạng chuỗi sang số bằng Label Encoding\n",
    "df[\"Khu vực\"] = df[\"Khu vực\"].astype('category').cat.codes\n",
    "df[\"Loại đất\"] = df[\"Loại đất\"].astype('category').cat.codes\n",
    "\n",
    "# Chia dữ liệu thành đầu vào (X) và đầu ra (y)\n",
    "X = df[[\"Khu vực\", \"Loại đất\", \"Vị trí\"]]\n",
    "y = df[\"Giá đất\"]\n",
    "\n",
    "# Chia tập dữ liệu thành tập huấn luyện và kiểm tra\n",
    "X_train, X_test, y_train, y_test = train_test_split(X, y, test_size=0.2, random_state=42)\n",
    "\n",
    "# Chuẩn hóa dữ liệu\n",
    "scaler = StandardScaler()\n",
    "X_train = scaler.fit_transform(X_train)\n",
    "X_test = scaler.transform(X_test)\n",
    "\n",
    "# Huấn luyện mô hình Random Forest\n",
    "model = RandomForestRegressor(n_estimators=100, random_state=42)\n",
    "model.fit(X_train, y_train)\n",
    "\n",
    "# Dự đoán trên tập kiểm tra\n",
    "y_pred = model.predict(X_test)\n",
    "\n",
    "# Đánh giá mô hình\n",
    "mse = mean_squared_error(y_test, y_pred)\n",
    "r2 = r2_score(y_test, y_pred)\n",
    "print(f\"MSE: {mse}\")\n",
    "print(f\"R²: {r2}\")\n",
    "\n",
    "# Hàm dự đoán giá đất\n",
    "def predict_price(khu_vuc, loai_dat, vi_tri):\n",
    "    input_data = pd.DataFrame([[khu_vuc, loai_dat, vi_tri]], columns=[\"Khu vực\", \"Loại đất\", \"Vị trí\"])\n",
    "    input_data[\"Khu vực\"] = input_data[\"Khu vực\"].astype('category').cat.codes\n",
    "    input_data[\"Loại đất\"] = input_data[\"Loại đất\"].astype('category').cat.codes\n",
    "    input_data = scaler.transform(input_data)\n",
    "    return model.predict(input_data)[0]\n",
    "\n",
    "# Ví dụ sử dụng: Dự đoán giá đất tại Vũng Tàu, đất ở, vị trí 1\n",
    "print(predict_price(\"Bà Rịa\", \"Đất ở\", 2),\"m^2\")\n"
   ]
  }
 ],
 "metadata": {
  "kernelspec": {
   "display_name": "Python 3",
   "language": "python",
   "name": "python3"
  },
  "language_info": {
   "codemirror_mode": {
    "name": "ipython",
    "version": 3
   },
   "file_extension": ".py",
   "mimetype": "text/x-python",
   "name": "python",
   "nbconvert_exporter": "python",
   "pygments_lexer": "ipython3",
   "version": "3.11.11"
  }
 },
 "nbformat": 4,
 "nbformat_minor": 2
}
