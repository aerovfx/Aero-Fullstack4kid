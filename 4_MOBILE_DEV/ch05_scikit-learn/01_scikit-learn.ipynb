{
 "cells": [
  {
   "cell_type": "markdown",
   "metadata": {},
   "source": [
    "### SCIKIT-LEARN\n",
    "- Scikit-learn là một thư viện mã nguồn mở mạnh mẽ và dễ sử dụng cho ngôn ngữ lập trình Python. Nó cung cấp một loạt các công cụ cho khai thác dữ liệu và phân tích dữ liệu, làm cho nó trở thành một tài nguyên quý giá để xây dựng và đánh giá các mô hình học máy. Scikit-learn được xây dựng trên các thư viện Python phổ biến khác như NumPy, SciPy và matplotlib, đảm bảo các tính toán số hiệu quả và trực quan hóa dữ liệu.\n",
    "\n",
    "- Thư viện này cung cấp nhiều thuật toán học có giám sát và không giám sát, bao gồm hồi quy, phân loại, phân cụm và các kỹ thuật giảm chiều dữ liệu. Ngoài ra, scikit-learn còn cung cấp các tiện ích cho việc lựa chọn mô hình, tiền xử lý và đánh giá, cho phép người dùng tối ưu hóa toàn bộ quy trình học máy.\n",
    "\n",
    "- API thân thiện với người dùng và tài liệu phong phú của scikit-learn làm cho nó dễ tiếp cận đối với cả người mới bắt đầu và các chuyên gia có kinh nghiệm. Thiết kế mô-đun của nó cho phép tích hợp dễ dàng với các thư viện và công cụ Python khác, làm cho nó trở thành một lựa chọn linh hoạt cho nhiều nhiệm vụ học máy khác nhau."
   ]
  },
  {
   "cell_type": "code",
   "execution_count": 3,
   "metadata": {},
   "outputs": [
    {
     "name": "stdout",
     "output_type": "stream",
     "text": [
      "Accuracy: 1.0\n"
     ]
    }
   ],
   "source": [
    "# Import các thư viện cần thiết\n",
    "from sklearn.datasets import load_iris\n",
    "from sklearn.model_selection import train_test_split\n",
    "from sklearn.preprocessing import StandardScaler\n",
    "from sklearn.linear_model import LogisticRegression\n",
    "from sklearn.metrics import accuracy_score\n",
    "\n",
    "# Tải dữ liệu Iris\n",
    "iris = load_iris()\n",
    "X = iris.data\n",
    "y = iris.target\n",
    "\n",
    "# Chia dữ liệu thành tập huấn luyện và tập kiểm tra\n",
    "X_train, X_test, y_train, y_test = train_test_split(X, y, test_size=0.2, random_state=42)\n",
    "\n",
    "# Chuẩn hóa dữ liệu\n",
    "scaler = StandardScaler()\n",
    "X_train = scaler.fit_transform(X_train)\n",
    "X_test = scaler.transform(X_test)\n",
    "\n",
    "# Huấn luyện mô hình Logistic Regression\n",
    "model = LogisticRegression()\n",
    "model.fit(X_train, y_train)\n",
    "\n",
    "# Dự đoán trên tập kiểm tra\n",
    "y_pred = model.predict(X_test)\n",
    "\n",
    "# Đánh giá độ chính xác của mô hình\n",
    "accuracy = accuracy_score(y_test, y_pred)\n",
    "print(f\"Accuracy: {accuracy}\")"
   ]
  },
  {
   "cell_type": "code",
   "execution_count": 4,
   "metadata": {},
   "outputs": [
    {
     "name": "stdout",
     "output_type": "stream",
     "text": [
      "              precision    recall  f1-score   support\n",
      "\n",
      "      setosa       1.00      1.00      1.00        10\n",
      "  versicolor       1.00      1.00      1.00         9\n",
      "   virginica       1.00      1.00      1.00        11\n",
      "\n",
      "    accuracy                           1.00        30\n",
      "   macro avg       1.00      1.00      1.00        30\n",
      "weighted avg       1.00      1.00      1.00        30\n",
      "\n"
     ]
    }
   ],
   "source": [
    "from sklearn.metrics import classification_report\n",
    "\n",
    "# Tính toán các chỉ số đánh giá khác\n",
    "report = classification_report(y_test, y_pred, target_names=iris.target_names)\n",
    "print(report)"
   ]
  },
  {
   "cell_type": "code",
   "execution_count": 1,
   "metadata": {},
   "outputs": [
    {
     "name": "stdout",
     "output_type": "stream",
     "text": [
      "1. Phân loại email spam\n",
      "2. Dự đoán giá nhà\n",
      "3. Nhận diện khuôn mặt\n",
      "4. Phân tích cảm xúc từ văn bản\n",
      "5. Dự đoán bệnh tật từ dữ liệu y tế\n",
      "6. Phân loại hình ảnh\n",
      "7. Phân cụm khách hàng cho marketing\n",
      "8. Dự đoán doanh số bán hàng\n",
      "9. Phát hiện gian lận trong giao dịch tài chính\n",
      "10. Tối ưu hóa chuỗi cung ứng\n"
     ]
    }
   ],
   "source": [
    "# Một số ứng dụng thực tế của học máy và scikit-learn:\n",
    "applications = [\n",
    "    \"Phân loại email spam\",\n",
    "    \"Dự đoán giá nhà\",\n",
    "    \"Nhận diện khuôn mặt\",\n",
    "    \"Phân tích cảm xúc từ văn bản\",\n",
    "    \"Dự đoán bệnh tật từ dữ liệu y tế\",\n",
    "    \"Phân loại hình ảnh\",\n",
    "    \"Phân cụm khách hàng cho marketing\",\n",
    "    \"Dự đoán doanh số bán hàng\",\n",
    "    \"Phát hiện gian lận trong giao dịch tài chính\",\n",
    "    \"Tối ưu hóa chuỗi cung ứng\"\n",
    "]\n",
    "\n",
    "for i, app in enumerate(applications, 1):\n",
    "    print(f\"{i}. {app}\")"
   ]
  }
 ],
 "metadata": {
  "kernelspec": {
   "display_name": "Aero-Fullstack4kid",
   "language": "python",
   "name": "python3"
  },
  "language_info": {
   "codemirror_mode": {
    "name": "ipython",
    "version": 3
   },
   "file_extension": ".py",
   "mimetype": "text/x-python",
   "name": "python",
   "nbconvert_exporter": "python",
   "pygments_lexer": "ipython3",
   "version": "3.13.1"
  }
 },
 "nbformat": 4,
 "nbformat_minor": 2
}
