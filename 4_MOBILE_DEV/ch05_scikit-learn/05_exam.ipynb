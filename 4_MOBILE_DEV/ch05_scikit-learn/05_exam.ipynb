{
 "cells": [
  {
   "cell_type": "code",
   "execution_count": 1,
   "metadata": {},
   "outputs": [
    {
     "name": "stdout",
     "output_type": "stream",
     "text": [
      "Dữ liệu gốc:\n",
      "   age  salary\n",
      "0   25   50000\n",
      "1   30   60000\n",
      "2   45   80000\n",
      "3   50   90000\n",
      "4   23   45000\n",
      "\n",
      "Dữ liệu sau khi chuẩn hóa (StandardScaler):\n",
      "        age    salary\n",
      "0 -0.881365 -0.866025\n",
      "1 -0.422321 -0.288675\n",
      "2  0.954812  0.866025\n",
      "3  1.413856  1.443376\n",
      "4 -1.064982 -1.154701\n",
      "\n",
      "Dữ liệu sau khi biến đổi (MinMaxScaler):\n",
      "        age    salary\n",
      "0  0.074074  0.111111\n",
      "1  0.259259  0.333333\n",
      "2  0.814815  0.777778\n",
      "3  1.000000  1.000000\n",
      "4  0.000000  0.000000\n"
     ]
    }
   ],
   "source": [
    "import pandas as pd\n",
    "from sklearn.preprocessing import StandardScaler, MinMaxScaler\n",
    "\n",
    "# Tạo một DataFrame mẫu\n",
    "data = {\n",
    "    'age': [25, 30, 45, 50, 23],\n",
    "    'salary': [50000, 60000, 80000, 90000, 45000]\n",
    "}\n",
    "df = pd.DataFrame(data)\n",
    "\n",
    "# Chuẩn hóa dữ liệu sử dụng StandardScaler\n",
    "scaler = StandardScaler()\n",
    "df_standardized = pd.DataFrame(scaler.fit_transform(df), columns=df.columns)\n",
    "\n",
    "# Biến đổi dữ liệu sử dụng MinMaxScaler\n",
    "min_max_scaler = MinMaxScaler()\n",
    "df_normalized = pd.DataFrame(min_max_scaler.fit_transform(df), columns=df.columns)\n",
    "\n",
    "print(\"Dữ liệu gốc:\")\n",
    "print(df)\n",
    "print(\"\\nDữ liệu sau khi chuẩn hóa (StandardScaler):\")\n",
    "print(df_standardized)\n",
    "print(\"\\nDữ liệu sau khi biến đổi (MinMaxScaler):\")\n",
    "print(df_normalized)"
   ]
  }
 ],
 "metadata": {
  "kernelspec": {
   "display_name": "Aero-Fullstack4kid",
   "language": "python",
   "name": "python3"
  },
  "language_info": {
   "codemirror_mode": {
    "name": "ipython",
    "version": 3
   },
   "file_extension": ".py",
   "mimetype": "text/x-python",
   "name": "python",
   "nbconvert_exporter": "python",
   "pygments_lexer": "ipython3",
   "version": "3.13.1"
  }
 },
 "nbformat": 4,
 "nbformat_minor": 2
}
