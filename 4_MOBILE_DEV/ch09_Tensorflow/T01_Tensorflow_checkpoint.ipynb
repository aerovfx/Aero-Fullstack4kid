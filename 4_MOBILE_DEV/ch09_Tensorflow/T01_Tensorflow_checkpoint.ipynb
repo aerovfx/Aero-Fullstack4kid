{
 "cells": [
  {
   "cell_type": "code",
   "execution_count": 3,
   "metadata": {},
   "outputs": [
    {
     "name": "stdout",
     "output_type": "stream",
     "text": [
      "Checkpoint saved at ./checkpoints/ckpt\n",
      "Checkpoint restored from ./checkpoints/ckpt\n",
      "tf.Tensor([[ 1.2332363  1.7604501  1.6704142  1.5348788 -1.4061918]], shape=(1, 5), dtype=float32)\n",
      "Output sau khi khôi phục checkpoint: tf.Tensor([[ 0.70442915  0.70691884  0.28550646  0.00658247 -0.36860698]], shape=(1, 5), dtype=float32)\n"
     ]
    }
   ],
   "source": [
    "import tensorflow as tf\n",
    "\n",
    "# Define a simple model\n",
    "class MyModel(tf.keras.Model):\n",
    "    def __init__(self):\n",
    "        super(MyModel, self).__init__()\n",
    "        self.dense = tf.keras.layers.Dense(5)\n",
    "\n",
    "    def call(self, inputs):\n",
    "        return self.dense(inputs)\n",
    "\n",
    "# Create an instance of the model\n",
    "model = MyModel()\n",
    "\n",
    "# Define a checkpoint directory\n",
    "checkpoint_dir = './checkpoints'\n",
    "checkpoint_prefix = f'{checkpoint_dir}/ckpt'\n",
    "\n",
    "# Create a checkpoint object\n",
    "checkpoint = tf.train.Checkpoint(model=model)\n",
    "\n",
    "# Save the checkpoint\n",
    "def save_checkpoint():\n",
    "    checkpoint.save(file_prefix=checkpoint_prefix)\n",
    "    print(f'Checkpoint saved at {checkpoint_prefix}')\n",
    "\n",
    "# Restore the checkpoint\n",
    "def restore_checkpoint():\n",
    "    checkpoint.restore(tf.train.latest_checkpoint(checkpoint_dir))\n",
    "    print(f'Checkpoint restored from {checkpoint_prefix}')\n",
    "\n",
    "# Example usage\n",
    "# Create some dummy data\n",
    "dummy_data = tf.random.normal([1, 10])\n",
    "\n",
    "# Forward pass through the model\n",
    "output = model(dummy_data)\n",
    "\n",
    "# Save the checkpoint\n",
    "save_checkpoint()\n",
    "\n",
    "# Modify the model (for demonstration purposes)\n",
    "# Reinitialize the model to add new layers\n",
    "model = MyModel()\n",
    "\n",
    "# Restore the checkpoint\n",
    "restore_checkpoint()\n",
    "\n",
    "# Verify the model is restored\n",
    "output = model(dummy_data)\n",
    "print(output)\n",
    "# Minh họa đơn giản\n",
    "# Tạo dữ liệu giả\n",
    "dummy_data = tf.random.normal([1, 10])\n",
    "\n",
    "# Truyền dữ liệu qua mô hình\n",
    "output = model(dummy_data)\n",
    "print(\"Output sau khi khôi phục checkpoint:\", output)"
   ]
  }
 ],
 "metadata": {
  "kernelspec": {
   "display_name": "Python 3",
   "language": "python",
   "name": "python3"
  },
  "language_info": {
   "codemirror_mode": {
    "name": "ipython",
    "version": 3
   },
   "file_extension": ".py",
   "mimetype": "text/x-python",
   "name": "python",
   "nbconvert_exporter": "python",
   "pygments_lexer": "ipython3",
   "version": "3.11.11"
  }
 },
 "nbformat": 4,
 "nbformat_minor": 2
}
