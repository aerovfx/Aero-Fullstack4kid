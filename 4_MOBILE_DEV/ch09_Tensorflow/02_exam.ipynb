{
 "cells": [
  {
   "cell_type": "markdown",
   "metadata": {},
   "source": [
    " **Xử lý ngôn ngữ tự nhiên (NLP)**: TensorFlow hỗ trợ các tác vụ NLP như dịch máy, phân loại văn bản và phân tích cảm xúc."
   ]
  },
  {
   "cell_type": "code",
   "execution_count": 1,
   "metadata": {},
   "outputs": [
    {
     "name": "stdout",
     "output_type": "stream",
     "text": [
      "Word Index: {'<OOV>': 1, 'tôi': 2, 'học': 3, 'máy': 4, 'yêu': 5, 'rất': 6, 'thú': 7, 'vị': 8, 'thích': 9, 'lập': 10, 'trình': 11}\n",
      "Sequences: [[2, 5, 3, 4], [3, 4, 6, 7, 8], [2, 9, 10, 11]]\n",
      "Padded Sequences: [[ 2  5  3  4  0]\n",
      " [ 3  4  6  7  8]\n",
      " [ 2  9 10 11  0]]\n"
     ]
    }
   ],
   "source": [
    "import tensorflow as tf\n",
    "from tensorflow.keras.preprocessing.text import Tokenizer\n",
    "from tensorflow.keras.preprocessing.sequence import pad_sequences\n",
    "\n",
    "# Dữ liệu mẫu\n",
    "sentences = [\n",
    "    'Tôi yêu học máy',\n",
    "    'Học máy rất thú vị',\n",
    "    'Tôi thích lập trình'\n",
    "]\n",
    "\n",
    "# Khởi tạo Tokenizer\n",
    "tokenizer = Tokenizer(num_words=100, oov_token=\"<OOV>\")\n",
    "tokenizer.fit_on_texts(sentences)\n",
    "\n",
    "# Chuyển đổi văn bản thành chuỗi số\n",
    "sequences = tokenizer.texts_to_sequences(sentences)\n",
    "padded_sequences = pad_sequences(sequences, padding='post')\n",
    "\n",
    "print(\"Word Index:\", tokenizer.word_index)\n",
    "print(\"Sequences:\", sequences)\n",
    "print(\"Padded Sequences:\", padded_sequences)"
   ]
  }
 ],
 "metadata": {
  "kernelspec": {
   "display_name": "Python 3",
   "language": "python",
   "name": "python3"
  },
  "language_info": {
   "codemirror_mode": {
    "name": "ipython",
    "version": 3
   },
   "file_extension": ".py",
   "mimetype": "text/x-python",
   "name": "python",
   "nbconvert_exporter": "python",
   "pygments_lexer": "ipython3",
   "version": "3.11.11"
  }
 },
 "nbformat": 4,
 "nbformat_minor": 2
}
