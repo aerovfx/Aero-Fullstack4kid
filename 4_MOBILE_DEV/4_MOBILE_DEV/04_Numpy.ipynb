{
    "cells": [
        {
            "cell_type": "markdown",
            "metadata": {},
            "source": [
                "# Matrix Multiplication and Sorting with NumPy\n",
                "\n"
            ]
        },
        {
            "cell_type": "markdown",
            "metadata": {},
            "source": [
                "## Importing NumPy\n",
                "\n",
                "First, we need to import NumPy. It is usually imported under the alias `np`."
            ]
        },
        {
            "cell_type": "code",
            "execution_count": 1,
            "metadata": {},
            "outputs": [],
            "source": [
                "import numpy as np"
            ]
        },
        {
            "cell_type": "markdown",
            "metadata": {},
            "source": [
                "## Creating Matrices\n",
                "\n",
                "We can create matrices using the `np.array()` function."
            ]
        },
        {
            "cell_type": "code",
            "execution_count": 2,
            "metadata": {},
            "outputs": [],
            "source": [
                "# Creating two matrices\n",
                "matrix1 = np.array([[1, 2], [3, 4]])\n",
                "matrix2 = np.array([[5, 6], [7, 8]])"
            ]
        },
        {
            "cell_type": "markdown",
            "metadata": {},
            "source": [
                "## Matrix Multiplication\n",
                "\n",
                "We can multiply two matrices using the `@` operator or the `np.dot()` function."
            ]
        },
        {
            "cell_type": "code",
            "execution_count": 3,
            "metadata": {},
            "outputs": [],
            "source": [
                "# Matrix multiplication\n",
                "result = matrix1 @ matrix2"
            ]
        },
        {
            "cell_type": "markdown",
            "metadata": {},
            "source": [
                "## Sorting Matrices\n",
                "\n",
                "We can sort a matrix using the `np.sort()` function."
            ]
        },
        {
            "cell_type": "code",
            "execution_count": 4,
            "metadata": {},
            "outputs": [],
            "source": [
                "# Sorting a matrix\n",
                "sorted_matrix = np.sort(matrix1)"
            ]
        }
    ],
    "metadata": {
        "kernelspec": {
            "display_name": "Python 3",
            "language": "python",
            "name": "python3"
        },
        "language_info": {
            "codemirror_mode": {
                "name": "ipython",
                "version": 3
            },
            "file_extension": ".py",
            "mimetype": "text/x-python",
            "name": "python",
            "nbconvert_exporter": "python",
            "pygments_lexer": "ipython3",
            "version": "3.8.5"
        }
    },
    "nbformat": 4,
    "nbformat_minor": 4
}
