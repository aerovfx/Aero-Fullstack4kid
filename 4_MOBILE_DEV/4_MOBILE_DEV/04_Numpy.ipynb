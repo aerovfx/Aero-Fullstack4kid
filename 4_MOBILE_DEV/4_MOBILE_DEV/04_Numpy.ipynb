
# Import the necessary libraries
import numpy as np

# Create two 2x2 matrices
matrix_a = np.array([[1, 2], [3, 4]])
matrix_b = np.array([[5, 6], [7, 8]])

# Print the original matrices
print("Matrix A:")
print(matrix_a)
print("\nMatrix B:")
print(matrix_b)

# Perform matrix multiplication using NumPy's matmul function
result_matrix = np.matmul(matrix_a, matrix_b)

# Print the result of the matrix multiplication
print("\nResult of Matrix Multiplication:")
print(result_matrix)

# Create an array to demonstrate sorting
numbers_array = np.array([4, 2, 9, 6])

# Print the original numbers array
print("\nOriginal Numbers Array:")
print(numbers_array)

# Sort the numbers array in ascending order using NumPy's sort function
sorted_numbers_array = np.sort(numbers_array)

# Print the sorted numbers array
print("\nSorted Numbers Array:")
print(sorted_numbers_array)
