{
 "cells": [
  {
   "cell_type": "code",
   "execution_count": 4,
   "id": "a326f678-a974-46ec-b7d5-f6d980b3b075",
   "metadata": {},
   "outputs": [
    {
     "data": {
      "application/vnd.jupyter.widget-view+json": {
       "model_id": "54ab522548f24ea8929e80272a7c26d5",
       "version_major": 2,
       "version_minor": 0
      },
      "text/plain": [
       "Label(value='Câu hỏi 1: Điện trường là gì?')"
      ]
     },
     "metadata": {},
     "output_type": "display_data"
    },
    {
     "data": {
      "application/vnd.jupyter.widget-view+json": {
       "model_id": "26cedc2d9de94d7193e41f8255b77bd7",
       "version_major": 2,
       "version_minor": 0
      },
      "text/plain": [
       "RadioButtons(description='Lựa chọn:', options=('a) Một dạng vật chất tồn tại xung quanh các điện tích.', 'b) C…"
      ]
     },
     "metadata": {},
     "output_type": "display_data"
    },
    {
     "data": {
      "application/vnd.jupyter.widget-view+json": {
       "model_id": "78f0fc96607c4de7893538005081742e",
       "version_major": 2,
       "version_minor": 0
      },
      "text/plain": [
       "Button(description='Kiểm tra đáp án', style=ButtonStyle())"
      ]
     },
     "metadata": {},
     "output_type": "display_data"
    }
   ],
   "source": [
    "import ipywidgets as widgets\n",
    "from IPython.display import display\n",
    "\n",
    "# Tạo câu hỏi trắc nghiệm\n",
    "question = widgets.Label(\"Câu hỏi 1: Điện trường là gì?\")\n",
    "choices = widgets.RadioButtons(\n",
    "    options=['a) Một dạng vật chất tồn tại xung quanh các điện tích.',\n",
    "             'b) Chỉ tác dụng lên các vật thể không mang điện tích.',\n",
    "             'c) Là một loại sóng điện từ.',\n",
    "             'd) Không liên quan đến lực điện.'],\n",
    "    description='Lựa chọn:',\n",
    "    disabled=False\n",
    ")\n",
    "\n",
    "# Tạo nút để kiểm tra câu trả lời\n",
    "check_button = widgets.Button(description=\"Kiểm tra đáp án\")\n",
    "\n",
    "# Hàm kiểm tra câu trả lời và chấm điểm\n",
    "def check_answer(b):\n",
    "    correct_answer = 'a) Một dạng vật chất tồn tại xung quanh các điện tích.'\n",
    "    if choices.value == correct_answer:\n",
    "        print(\"Đúng rồi! Bạn đã trả lời chính xác.\")\n",
    "    else:\n",
    "        print(\"Sai rồi! Hãy thử lại.\")\n",
    "\n",
    "# Liên kết hàm kiểm tra với nút\n",
    "check_button.on_click(check_answer)\n",
    "\n",
    "# Hiển thị câu hỏi và lựa chọn\n",
    "display(question, choices, check_button)"
   ]
  },
  {
   "cell_type": "code",
   "execution_count": null,
   "id": "e259a4d4-172c-4c9d-9b71-8ac36a894902",
   "metadata": {},
   "outputs": [],
   "source": []
  }
 ],
 "metadata": {
  "kernelspec": {
   "display_name": "Python 3 (ipykernel)",
   "language": "python",
   "name": "python3"
  },
  "language_info": {
   "codemirror_mode": {
    "name": "ipython",
    "version": 3
   },
   "file_extension": ".py",
   "mimetype": "text/x-python",
   "name": "python",
   "nbconvert_exporter": "python",
   "pygments_lexer": "ipython3",
   "version": "3.9.6"
  }
 },
 "nbformat": 4,
 "nbformat_minor": 5
}
