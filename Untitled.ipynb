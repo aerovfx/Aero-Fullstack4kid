{
 "cells": [
  {
   "cell_type": "code",
   "execution_count": 10,
   "id": "783ca296-5506-4801-a9a7-667bbda7e2a0",
   "metadata": {},
   "outputs": [
    {
     "data": {
      "text/html": [
       "What is the capital of France?"
      ],
      "text/plain": [
       "<IPython.core.display.HTML object>"
      ]
     },
     "metadata": {},
     "output_type": "display_data"
    },
    {
     "data": {
      "application/vnd.jupyter.widget-view+json": {
       "model_id": "cf457ad770b743b982d67e608cbb048a",
       "version_major": 2,
       "version_minor": 0
      },
      "text/plain": [
       "Dropdown(description='Choose:', options=('Paris', 'Berlin', 'Madrid', 'Rome'), value='Paris')"
      ]
     },
     "metadata": {},
     "output_type": "display_data"
    },
    {
     "data": {
      "application/vnd.jupyter.widget-view+json": {
       "model_id": "c6c2d1affb8948c593936faa6b0f8d96",
       "version_major": 2,
       "version_minor": 0
      },
      "text/plain": [
       "Button(description='Submit', style=ButtonStyle())"
      ]
     },
     "metadata": {},
     "output_type": "display_data"
    }
   ],
   "source": [
    "from IPython.display import display, HTML\n",
    "import ipywidgets as widgets\n",
    "\n",
    "question = \"What is the capital of France?\"\n",
    "options = [\"Paris\", \"Berlin\", \"Madrid\", \"Rome\"]\n",
    "correct_answer = \"Paris\"\n",
    "\n",
    "def check_answer(b):\n",
    "    if dropdown.value == correct_answer:\n",
    "        print(\"Correct!\")\n",
    "    else:\n",
    "        print(\"Wrong answer.\")\n",
    "\n",
    "dropdown = widgets.Dropdown(options=options, description=\"Choose:\")\n",
    "button = widgets.Button(description=\"Submit\")\n",
    "button.on_click(check_answer)\n",
    "\n",
    "display(HTML(question))\n",
    "display(dropdown, button)"
   ]
  },
  {
   "cell_type": "code",
   "execution_count": null,
   "id": "b33c1de5-9de1-4610-ad9f-6920845130ed",
   "metadata": {},
   "outputs": [],
   "source": []
  }
 ],
 "metadata": {
  "kernelspec": {
   "display_name": "Python 3 (ipykernel)",
   "language": "python",
   "name": "python3"
  },
  "language_info": {
   "codemirror_mode": {
    "name": "ipython",
    "version": 3
   },
   "file_extension": ".py",
   "mimetype": "text/x-python",
   "name": "python",
   "nbconvert_exporter": "python",
   "pygments_lexer": "ipython3",
   "version": "3.9.6"
  }
 },
 "nbformat": 4,
 "nbformat_minor": 5
}
