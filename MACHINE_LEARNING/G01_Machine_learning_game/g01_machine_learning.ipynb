{
 "cells": [
  {
   "cell_type": "code",
   "execution_count": null,
   "metadata": {},
   "outputs": [],
   "source": [
    "# WEEK 4: Introduction to Machine Learning Concepts\n",
    "\n",
    "# This week focuses on the basic concepts of Machine Learning, especially supervised learning, \n",
    "# with algorithms such as linear regression, logistic regression, and model performance evaluation.\n",
    "# An interesting part is the application of logistic regression in Houdini.\n",
    "\n",
    "# Import necessary libraries\n",
    "import numpy as np\n",
    "import pandas as pd\n",
    "import matplotlib.pyplot as plt\n",
    "from sklearn.model_selection import train_test_split\n",
    "from sklearn.linear_model import LinearRegression, LogisticRegression\n",
    "from sklearn.metrics import mean_squared_error, accuracy_score, confusion_matrix\n",
    "\n",
    "# Sample data for linear regression\n",
    "data = {\n",
    "    'Hours_Studied': [1, 2, 3, 4, 5, 6, 7, 8, 9, 10],\n",
    "    'Scores': [10, 20, 30, 40, 50, 60, 70, 80, 90, 100]\n",
    "}\n",
    "df = pd.DataFrame(data)\n",
    "\n",
    "# Linear Regression\n",
    "X = df[['Hours_Studied']]\n",
    "y = df['Scores']\n",
    "X_train, X_test, y_train, y_test = train_test_split(X, y, test_size=0.2, random_state=42)\n",
    "linear_regressor = LinearRegression()\n",
    "linear_regressor.fit(X_train, y_train)\n",
    "y_pred = linear_regressor.predict(X_test)\n",
    "\n",
    "# Plotting the linear regression results\n",
    "plt.scatter(X, y, color='blue')\n",
    "plt.plot(X_test, y_pred, color='red')\n",
    "plt.title('Linear Regression')\n",
    "plt.xlabel('Hours Studied')\n",
    "plt.ylabel('Scores')\n",
    "plt.show()\n",
    "\n",
    "# Sample data for logistic regression\n",
    "data_logistic = {\n",
    "    'Hours_Studied': [1, 2, 3, 4, 5, 6, 7, 8, 9, 10],\n",
    "    'Passed': [0, 0, 0, 0, 1, 1, 1, 1, 1, 1]\n",
    "}\n",
    "df_logistic = pd.DataFrame(data_logistic)\n",
    "\n",
    "# Logistic Regression\n",
    "X_logistic = df_logistic[['Hours_Studied']]\n",
    "y_logistic = df_logistic['Passed']\n",
    "X_train_log, X_test_log, y_train_log, y_test_log = train_test_split(X_logistic, y_logistic, test_size=0.2, random_state=42)\n",
    "logistic_regressor = LogisticRegression()\n",
    "logistic_regressor.fit(X_train_log, y_train_log)\n",
    "y_pred_log = logistic_regressor.predict(X_test_log)\n",
    "\n",
    "# Model performance evaluation\n",
    "accuracy = accuracy_score(y_test_log, y_pred_log)\n",
    "conf_matrix = confusion_matrix(y_test_log, y_pred_log)\n",
    "\n",
    "print(f'Accuracy: {accuracy}')\n",
    "print(f'Confusion Matrix:\\n{conf_matrix}')\n",
    "\n",
    "# Note: Application of logistic regression in Houdini is beyond the scope of this notebook.\n",
    "# It typically involves using logistic regression for decision-making processes in Houdini simulations."
   ]
  },
  {
   "cell_type": "code",
   "execution_count": null,
   "metadata": {
    "vscode": {
     "languageId": "plaintext"
    }
   },
   "outputs": [],
   "source": []
  }
 ],
 "metadata": {
  "language_info": {
   "name": "python"
  }
 },
 "nbformat": 4,
 "nbformat_minor": 2
}
